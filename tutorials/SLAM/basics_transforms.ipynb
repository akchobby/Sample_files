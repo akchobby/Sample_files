{
 "cells": [
  {
   "cell_type": "markdown",
   "id": "43b71ff2",
   "metadata": {},
   "source": [
    "# Basics of transforms\n",
    "\n",
    "This is  a walk through document to undertand transforms with notations.\n",
    "\n",
    "1.Understanding representations in 2D, this involves rotation matrices and transsforms using homogenous representation in 2D\n",
    "\n",
    "# Example 1 \n",
    "\n",
    "Starting with a basic example\n",
    "Assume in a world reference frames lies a cat at (1,0) \n",
    "and a mouse at (1,1)\n",
    "Find  where the mouse lies in the cat's reference frame ?"
   ]
  },
  {
   "cell_type": "code",
   "execution_count": null,
   "id": "4c6a3624",
   "metadata": {},
   "outputs": [
    {
     "name": "stdout",
     "output_type": "stream",
     "text": [
      "The mouse lies at (0.0, 1.0) in the cat's reference frame\n"
     ]
    }
   ],
   "source": [
    "import numpy as np\n",
    "\n",
    "# my solution : The mouse lies at (0.0, 1.0) in the cat's reference frame\n",
    "\n",
    "# noting all the avilable transformations\n",
    "# 1. T_cat_in_world \n",
    "# 2. T_mouse_in_world\n",
    "# I need to find T_mouse_in_cat\n",
    "# by chaining the transformations\n",
    "# T_mouse_in_cat = T_cat_in_world * inv(T_mouse_in_world)\n",
    "\n",
    "# 2D homogeneous transformation\n",
    "def Rz_2d(theta):\n",
    "    return np.array([[np.cos(theta), -np.sin(theta)],\n",
    "                     [np.sin(theta), np.cos(theta)]])\n",
    "    \n",
    "def T_x_in_y_2d(theta, T):\n",
    "    # Check if T has exactly 2 elements (works for row or column vectors)\n",
    "    arr = np.asarray(T)\n",
    "    if arr.size == 2:\n",
    "        _T_x_in_y = np.eye(3)\n",
    "        _T_x_in_y[0:2, 0:2] = Rz_2d(theta)\n",
    "        _T_x_in_y[0:2, 2] = T\n",
    "        return _T_x_in_y\n",
    "    else:\n",
    "        raise ValueError(\"T must be a 2D vector (x, y) for 2D transformations.\")\n",
    "\n",
    "# 1. T_cat_in_world \n",
    "T_cat_in_world = T_x_in_y_2d(0, [1, 0])\n",
    "\n",
    "\n",
    "# 2. T_mouse_in_world\n",
    "T_mouse_in_world = T_x_in_y_2d(0, [1, 1])\n",
    "\n",
    "\n",
    "# 3. T_mouse_in_cat\n",
    "T_mouse_in_cat = np.matmul(np.linalg.inv(T_cat_in_world),T_mouse_in_world) \n",
    "\n",
    "print(f\"The mouse lies at ({T_mouse_in_cat[0, 2]}, {T_mouse_in_cat[1, 2]}) in the cat's reference frame\")\n"
   ]
  },
  {
   "cell_type": "markdown",
   "id": "e93ac243",
   "metadata": {},
   "source": [
    "# Example 2\n",
    "\n",
    "In the previous example it was given the mouse was looking in the same direction the cat was , and the world reference was aligned to them , here its a bit different. Now the cat is 90 degs rotated wrt to the world but is still looking at the mouse which is running awy in the same direction. Along with the position of the mouse in the cats reference, now find the world reference frame in the mouse frmae of reference\n"
   ]
  },
  {
   "cell_type": "code",
   "execution_count": null,
   "id": "d68c9cc0",
   "metadata": {},
   "outputs": [
    {
     "name": "stdout",
     "output_type": "stream",
     "text": [
      "The mouse lies at (0.9999999999999999, 1.1102230246251565e-16) in the cat's reference frame\n",
      "The world ref lies at (-1.0, 0.9999999999999999) in the mouse's reference frame\n"
     ]
    }
   ],
   "source": [
    "# in the previous ti,e the theta was 0 but now that changes hence\n",
    "\n",
    "# 1. T_cat_in_world (wTc)\n",
    "T_cat_in_world = T_x_in_y_2d(np.deg2rad(90), [1, 0])\n",
    "\n",
    "# 2. T_mouse_in_world (wTm)\n",
    "T_mouse_in_world = T_x_in_y_2d(np.deg2rad(90), [1, 1])\n",
    "\n",
    "# 3. T_mouse_in_cat ( cTm = cTw * wTm) ==> very important to digest\n",
    "T_mouse_in_cat = np.matmul(np.linalg.inv( T_cat_in_world),T_mouse_in_world)\n",
    "\n",
    "# 4. T_world_in_mouse\n",
    "T_world_in_mouse = np.linalg.inv(T_mouse_in_world)\n",
    "\n",
    "print(f\"The mouse lies at ({T_mouse_in_cat[0, 2]}, {T_mouse_in_cat[1, 2]}) in the cat's reference frame\")\n",
    "print(f\"The world ref lies at ({T_world_in_mouse[0, 2]}, {T_world_in_mouse[1, 2] }) in the mouse's reference frame\")\n",
    "\n",
    "\n",
    "# expected answer is (1, 0) in the cat's reference frame\n",
    "\n",
    "# wTc wTm\n",
    "# Summary\n",
    "# Premultiplying by the inverse of the cat-in-world transform \n",
    "# is necessary to express the mouse's pose in the cat's frame,\n",
    "# because you are \"moving\" from the world frame into the cat's frame,\n",
    "# then applying the mouse's position in the world. \n",
    "# This is standard in coordinate frame chaining."
   ]
  },
  {
   "cell_type": "markdown",
   "id": "7c77aedf",
   "metadata": {},
   "source": [
    "# Example 3\n",
    "\n",
    "Now lets try a 3D problem , now the cat is at (1,0,0) in the world frame and the cat turned 90 deg is looking up 45 deg to see a mouse  on a shelf at (1, 1, 1) w.R.t the world. Note the mouse frame is rotated 180 deg to the world."
   ]
  },
  {
   "cell_type": "code",
   "execution_count": null,
   "id": "93e921d3",
   "metadata": {},
   "outputs": [
    {
     "name": "stdout",
     "output_type": "stream",
     "text": [
      "The mouse lies at (1.414213562373095, 1.1102230246251565e-16, 1.543201052742903e-16) in the cat's reference frame\n"
     ]
    }
   ],
   "source": [
    "import numpy as np\n",
    "# 3D homogeneous transformation\n",
    "def Rx(roll):\n",
    "    return np.array([[1,        0,              0  ],\n",
    "                     [0, np.cos(roll),-np.sin(roll)],\n",
    "                     [0, np.sin(roll), np.cos(roll)]])\n",
    "\n",
    "def Ry(pitch):\n",
    "    return np.array([[np.cos(pitch),    0,      np.sin(pitch) ],\n",
    "                     [0,               1.0,           0.      ],\n",
    "                     [-np.sin(pitch),   0.,      np.cos(pitch)]])\n",
    "    \n",
    "def Rz(yaw):\n",
    "    return np.array([[np.cos(yaw),-np.sin(yaw), 0.],\n",
    "                     [np.sin(yaw), np.cos(yaw), 0.],\n",
    "                     [0.,          0.,          1.]])\n",
    "    \n",
    "def T_x_in_y(angles, T):\n",
    "    \"\"\"\n",
    "    Create a homogeneous transformation matrix from frame x to frame y.\n",
    "    angles: tuple of (yaw, pitch, roll) in radians\n",
    "    T: translation vector from frame x to frame y (should be a 3D vector)\n",
    "    \"\"\"\n",
    "    # Check if T has exactly 2 elements (works for row or column vectors)\n",
    "    arr = np.asarray(T)\n",
    "    if arr.size == 3:\n",
    "        _T_x_in_y = np.eye(4)\n",
    "        _T_x_in_y[0:3, 0:3] = np.matmul(np.matmul(Rz(angles[0]), Ry(angles[1])), Rx(angles[2]))\n",
    "        _T_x_in_y[0:3, 3] = T\n",
    "        return _T_x_in_y\n",
    "    else:\n",
    "        raise ValueError(\"T must be a 3D vector (x, y, z) for 3D transformations.\")\n",
    "    \n",
    "# 1. T_cat_in_world (wTc)\n",
    "T_cat_in_world = T_x_in_y([np.deg2rad(90), np.deg2rad(-45), 0], [1, 0, 0])\n",
    "\n",
    "# 2. T_mouse_in_world (wTm)\n",
    "T_mouse_in_world = T_x_in_y([np.deg2rad(180), 0, 0], [1, 1, 1])\n",
    "\n",
    "# 3. T_mouse_in_cat (cTm = cTw * wTm)\n",
    "T_mouse_in_cat = np.matmul(np.linalg.inv(T_cat_in_world), T_mouse_in_world)\n",
    "print(f\"The mouse lies at ({T_mouse_in_cat[0, 3]}, {T_mouse_in_cat[1, 3]}, {T_mouse_in_cat[2, 3]}) in the cat's reference frame\")"
   ]
  },
  {
   "cell_type": "markdown",
   "id": "3cab166d",
   "metadata": {},
   "source": [
    "# Example 4\n",
    "\n",
    "Moving on to some real world examples, there is a tractor  with a GNSS antenna and we want to track the tractor reference frame which is between the tractors rear wheels. Given the antenna is positioned at (1,1,1) in the tractor reference and the GNSS reports a position of (0,0,0) with a heading of 90 deg.  Where is the tractor reference in the world? "
   ]
  },
  {
   "cell_type": "code",
   "execution_count": null,
   "id": "f2f61159",
   "metadata": {},
   "outputs": [
    {
     "name": "stdout",
     "output_type": "stream",
     "text": [
      "The tractor lies at (0.9999999999999999, -1.0, -1.0) in the world reference frame\n"
     ]
    }
   ],
   "source": [
    "# 1. T_gnss_in_world (wTg)\n",
    "T_gnss_in_world = T_x_in_y([np.deg2rad(90), 0, 0], [0., 0., 0.])\n",
    "\n",
    "# 2. T_gnss_in_tractor (tTg)\n",
    "T_gnss_in_tractor = T_x_in_y([0, 0, 0], [1., 1., 1.]) \n",
    "\n",
    "# 3. T_tractor_in_world (wTt = wTg * gTt )\n",
    "T_tractor_in_world = np.matmul(T_gnss_in_world, np.linalg.inv(T_gnss_in_tractor))\n",
    "\n",
    "print(f\"The tractor ref lies at ({T_tractor_in_world[0, 3]}, {T_tractor_in_world[1, 3]}, {T_tractor_in_world[2, 3]}) in the world reference frame\")\n",
    "\n"
   ]
  }
 ],
 "metadata": {
  "kernelspec": {
   "display_name": "Python 3",
   "language": "python",
   "name": "python3"
  },
  "language_info": {
   "codemirror_mode": {
    "name": "ipython",
    "version": 3
   },
   "file_extension": ".py",
   "mimetype": "text/x-python",
   "name": "python",
   "nbconvert_exporter": "python",
   "pygments_lexer": "ipython3",
   "version": "3.10.17"
  }
 },
 "nbformat": 4,
 "nbformat_minor": 5
}
